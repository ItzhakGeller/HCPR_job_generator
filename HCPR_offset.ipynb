{
 "cells": [
  {
   "cell_type": "code",
   "execution_count": 20,
   "id": "e5b9a333-0908-4900-8737-a2b488ffda93",
   "metadata": {},
   "outputs": [],
   "source": [
    "import numpy as np\n",
    "import matplotlib.pyplot as plt\n",
    "from PIL import Image"
   ]
  },
  {
   "cell_type": "markdown",
   "id": "7fc3c2a7-8663-4fab-8e21-6c25e3370702",
   "metadata": {},
   "source": [
    "# create job"
   ]
  },
  {
   "cell_type": "code",
   "execution_count": 34,
   "id": "4dccdc7c-bd1f-4ebc-b5ef-2b0a10dfe7ab",
   "metadata": {},
   "outputs": [],
   "source": [
    "\n",
    "\n",
    "#define basic parameters of the job\n",
    "h=26000\n",
    "w=21504\n",
    "job = np.ones((h,w)).astype(np.uint8)*255\n",
    "gray = int(60*255/100)\n",
    "slope  = 20 #microns\\mm\n",
    "top_blank = 70 #lines\n",
    "left_blank = 640*2\n",
    "line_length = w-3*left_blank\n",
    "\n",
    "for line in range(h-2*top_blank):\n",
    "    jump = int(np.round(line*slope/1000))\n",
    "    job[top_blank+line,left_blank+jump:left_blank+jump+line_length] = gray\n",
    "    \n",
    "\n"
   ]
  },
  {
   "cell_type": "markdown",
   "id": "dd71b877-1ef3-4ee5-a553-020c840fa2ad",
   "metadata": {},
   "source": [
    "# plot job"
   ]
  },
  {
   "cell_type": "code",
   "execution_count": 35,
   "id": "4e807eca-8630-4faf-970c-16afe908f823",
   "metadata": {},
   "outputs": [
    {
     "data": {
      "image/png": "[encoded data removed]",
      "text/plain": [
       "<Figure size 640x480 with 1 Axes>"
      ]
     },
     "metadata": {},
     "output_type": "display_data"
    }
   ],
   "source": [
    "plt.imshow(job)\n",
    "plt.show()"
   ]
  },
  {
   "cell_type": "markdown",
   "id": "8f3876fe-6446-4c76-88b9-154fc1ed002d",
   "metadata": {},
   "source": [
    "# save job"
   ]
  },
  {
   "cell_type": "code",
   "execution_count": 36,
   "id": "bc94a065-f940-4a86-bd51-aec718388683",
   "metadata": {},
   "outputs": [],
   "source": [
    "path = \"//15.18.18.211/f/Tsahi/LPH/ser3/jobs for HCPR/new/\"\n",
    "file = \"offset_{}_microns_mm\".format(slope)\n",
    "im = Image.fromarray(job)\n",
    "dpi = 64*25.4\n",
    "im.save(path+file+\".tiff\", dpi=(dpi,dpi),compression=\"tiff_lzw\")"
   ]
  },
  {
   "cell_type": "code",
   "execution_count": null,
   "id": "a051cc66-de44-423b-8012-07f777ec561d",
   "metadata": {},
   "outputs": [],
   "source": []
  }
 ],
 "metadata": {
  "kernelspec": {
   "display_name": "Python 3 (ipykernel)",
   "language": "python",
   "name": "python3"
  },
  "language_info": {
   "codemirror_mode": {
    "name": "ipython",
    "version": 3
   },
   "file_extension": ".py",
   "mimetype": "text/x-python",
   "name": "python",
   "nbconvert_exporter": "python",
   "pygments_lexer": "ipython3",
   "version": "3.9.13"
  }
 },
 "nbformat": 4,
 "nbformat_minor": 5
}
